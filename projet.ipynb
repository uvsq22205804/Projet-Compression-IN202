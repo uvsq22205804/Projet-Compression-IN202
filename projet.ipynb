{
 "cells": [
  {
   "attachments": {},
   "cell_type": "markdown",
   "metadata": {},
   "source": [
    "## Outils pour la manipulation d'images et librairies.\n"
   ]
  },
  {
   "cell_type": "code",
   "execution_count": null,
   "metadata": {},
   "outputs": [],
   "source": [
    "#Question 1 à 8 --> EL AOUNI Sawsane (Veuilllez prendre en compte des problèmes liés à l'installation des librairies python qui ne sont donc pas fonctionnelles)\n",
    "#Question 9 à 16 --> FAIZ Yasmine"
   ]
  },
  {
   "cell_type": "code",
   "execution_count": 30,
   "metadata": {},
   "outputs": [],
   "source": [
    "import PIL\n",
    "from PIL import Image\n",
    "import numpy as np\n",
    "import scipy as sp\n",
    "import os\n",
    "from math import log10, sqrt\n",
    "import array \n",
    "\n",
    "def load(filename):\n",
    "    toLoad= Image.open(filename)\n",
    "    return np.asarray(toLoad)\n",
    "\n",
    "\n",
    "def psnr(original, compressed):\n",
    "    mse = np.mean((original - compressed) ** 2)\n",
    "    max_pixel = 255.0\n",
    "    psnr = 20 * log10(max_pixel / sqrt(mse))\n",
    "    return psnr\n",
    "\n",
    "def dct2(a):\n",
    "    return sp.fft.dct( sp.fft.dct( a, axis=0, norm='ortho' ), axis=1, norm='ortho' )\n",
    "\n",
    "def idct2(a):\n",
    "    return sp.fft.idct( sp.fft.idct( a, axis=0 , norm='ortho'), axis=1 , norm='ortho')\n"
   ]
  },
  {
   "attachments": {},
   "cell_type": "markdown",
   "metadata": {},
   "source": [
    "## Normalisation de l'image (YCbCr et padding)"
   ]
  },
  {
   "cell_type": "code",
   "execution_count": 23,
   "metadata": {},
   "outputs": [],
   "source": [
    "#QUESTION-1\n",
    "def YCbCr(mat):\n",
    "    MatYCbCr=np.empty(mat.shape) #création d'une nvl matrice \n",
    "    for i in range(mat.shape[0]): #parcourir chaque pixel de la matrice d'entrée\n",
    "        for j in range(mat.shape[1]):\n",
    "            #calculer chaque pixel avec une boucle\n",
    "            R=0.299*mat[i,j,0]-0.587*mat[i,j,1]+0,114*mat[i,j,2]\n",
    "            Cb=0.1687*mat[i,j,0]-0.3313*mat[i,j,1]+0.5*mat[i,j,2]+128\n",
    "            Cr=0.5*mat[i,j,0]-0.4187*mat[i,j,1]-0.0813*mat[i,j,2]+128\n",
    "            MatYCbCr[i,j]=(R, Cb, Cr) #on stocke les valeurs YCbCr dans la nvl matrice\n",
    "    print(MatYCbCr[0,0])\n",
    "    return MatYCbCr\n",
    "\n",
    "\n",
    "#QUESTION-2\n",
    "def RGB2(mat):\n",
    "    matRGB=np.empty((mat.shape[0], mat.shape[1],3), dtype=np.uint8) #nvl matrice \n",
    "    for i in range(matRGB.shape[0]):\n",
    "        for j in range(matRGB.shape[1]):\n",
    "            #assignement des valeurs aux pixels et <np.clip> pour vérifier que les valeurs RGB sont à la plage 0 à 255\n",
    "            R=mat[i,j,0]+1.402*(mat[i,j,2]-128)\n",
    "            G=mat[i,j,0]-0.34414*(mat[i,j,1]-128)-0.71414*(mat[i,j,2]-128)\n",
    "            B=mat[i,j,0]+1.772*(mat[i,j,1]-128)\n",
    "            matRGB[i,j]=(np.uint8(np.clip(R,0.0,255.0)),np.uint8(np.clip(G,0.0,255,0)),np.uint8(np.clip(B,0.0,255.0)))\n",
    "    return matRGB\n",
    "\n"
   ]
  },
  {
   "cell_type": "code",
   "execution_count": 4,
   "metadata": {},
   "outputs": [],
   "source": [
    "#QUESTION-3\n",
    "import numpy as np\n",
    "\n",
    "def padding(mat):\n",
    "    #dimensions de la matrice d'entrée\n",
    "    l = mat.shape[0]\n",
    "    c = mat.shape[1]\n",
    "    while l % 8 != 0: #padding pour les rendre divisible pas 8\n",
    "        l += 1\n",
    "        c += 1\n",
    "    mat_pad = np.zeros((l, c, 3), dtype=np.uint8) #nouvelle matrice de padding avec des 0\n",
    "    mat_pad[:mat.shape[0], :mat.shape[1]] = mat #copie de la matrice d'entrée avec la matrice de padding\n",
    "    return mat_pad\n",
    "\n",
    "\n",
    "\n",
    "def remove_padding(mat_pad):\n",
    "    l = mat_pad.shape[0]\n",
    "    c = mat_pad.shape[1]\n",
    "    mat = mat_pad.copy() #copie pour les modifications\n",
    "    while l > 0 and np.array_equal(mat[l-1], np.zeros((c, 3), dtype=np.uint8)): #suppression du padding en vérifiant les lignes de bas en haut\n",
    "        l -= 1\n",
    "    while c > 0 and np.array_equal(mat[:, c-1], np.zeros(l, dtype=np.uint8)): #suppression du padding en vérifiant les colonnes de la droite vers la gauche\n",
    "        c -= 1\n",
    "    mat = mat[:l, :c] #extraction de la mat sans le padding\n",
    "    return mat\n"
   ]
  },
  {
   "cell_type": "code",
   "execution_count": null,
   "metadata": {},
   "outputs": [],
   "source": [
    "#----------QUESTION--4\n",
    "import numpy as np\n",
    "\n",
    "def mat_ss_echantillonage(mat):\n",
    "    matrice_reduite = np.empty([mat.shape[0], mat.shape[1] // 2, 3], dtype=np.uint8) #matrice réduite en largeur\n",
    "    for i in range(0, matrice_reduite.shape[0]):\n",
    "        for j in range(0, matrice_reduite.shape[1]):\n",
    "            matrice_reduite[i, j, 0] = mat[i, 2 * j, 0] #Y\n",
    "            matrice_reduite[i, j, 1] = (mat[i, 2 * j, 1] + mat[i, 2 * j + 1, 1]) // 2 #calcul moyenne G\n",
    "            matrice_reduite[i, j, 2] = (mat[i, 2 * j, 2] + mat[i, 2 * j + 1, 2]) // 2 #calcul moyenne B\n",
    "    return matrice_reduite"
   ]
  },
  {
   "cell_type": "code",
   "execution_count": null,
   "metadata": {},
   "outputs": [],
   "source": [
    "#--------QUESTION--5\n",
    "import numpy as np\n",
    "\n",
    "def matrice_doublee(mat):\n",
    "    mat_doublee = np.empty([mat.shape[0], mat.shape[1] * 2, 3], dtype=np.uint8) #matrice doublee en largeur\n",
    "    for i in range(mat.shape[0]):\n",
    "        for j in range(mat.shape[1]):\n",
    "            mat_doublee[i, j * 2 : j * 2 + 2] = mat[i, j] #copie des pixels d'origine \n",
    "    return mat_doublee"
   ]
  },
  {
   "cell_type": "code",
   "execution_count": null,
   "metadata": {},
   "outputs": [],
   "source": [
    "#----------QUESTION--6\n",
    "def decouper_en_blocs(mat):\n",
    "    liste_blocs = [] #liste pour les blocs découpés\n",
    "    rows, cols = mat.shape[0], mat.shape[1] #dimension de la matrice\n",
    "    if rows % 8 != 0 or cols % 8 != 0: #vérifier si divisible pas 8\n",
    "        return liste_blocs\n",
    "    for i in range(0, rows, 8): #\n",
    "        for j in range(0, cols, 8):\n",
    "            bloc = mat[i:i+8, j:j+8] #découpage\n",
    "            liste_blocs.append(bloc) #ajout du blocs à la liste\n",
    "    return liste_blocs\n"
   ]
  },
  {
   "cell_type": "code",
   "execution_count": null,
   "metadata": {},
   "outputs": [],
   "source": [
    "#-----------QUESTION--7\n",
    "def transformee(blocs):\n",
    "    blocs_transformes = []\n",
    "    for i in range(len(blocs)):\n",
    "        bloc_transforme = dct2(blocs[i]) #transformation en cosinus discrète\n",
    "        blocs_transformes.append(bloc_transforme) #ajout à la liste\n",
    "    return blocs_transformes\n",
    "\n",
    "def detransformation(blocs):\n",
    "    blocs_detransformes = []\n",
    "    for i in range(len(blocs)):\n",
    "        bloc_detransforme = idct2(blocs[i])\n",
    "        blocs_detransformes.append(bloc_detransforme)\n",
    "    return blocs_detransformes\n"
   ]
  },
  {
   "cell_type": "code",
   "execution_count": null,
   "metadata": {},
   "outputs": [],
   "source": [
    "#---------QUESTION--8\n",
    "def filtrage_mode1(blocs, seuil):\n",
    "    blocs_filtres = []\n",
    "    for i in range(len(blocs)):\n",
    "        if blocs[i] < seuil:\n",
    "            blocs[i] = 0\n",
    "        blocs_filtres.append(blocs[i])\n",
    "    return blocs_filtres\n"
   ]
  },
  {
   "attachments": {},
   "cell_type": "markdown",
   "metadata": {},
   "source": [
    "## Découpage en blocs et compression"
   ]
  },
  {
   "cell_type": "code",
   "execution_count": null,
   "metadata": {},
   "outputs": [],
   "source": [
    "\n"
   ]
  },
  {
   "cell_type": "code",
   "execution_count": null,
   "metadata": {},
   "outputs": [],
   "source": []
  },
  {
   "attachments": {},
   "cell_type": "markdown",
   "metadata": {},
   "source": [
    "## Écriture dans un fichier"
   ]
  },
  {
   "cell_type": "code",
   "execution_count": null,
   "metadata": {},
   "outputs": [],
   "source": []
  },
  {
   "attachments": {},
   "cell_type": "markdown",
   "metadata": {},
   "source": [
    "## Décompression"
   ]
  },
  {
   "attachments": {},
   "cell_type": "markdown",
   "metadata": {},
   "source": [
    "## Tests "
   ]
  },
  {
   "cell_type": "code",
   "execution_count": 1,
   "metadata": {},
   "outputs": [
    {
     "ename": "NameError",
     "evalue": "name 'load' is not defined",
     "output_type": "error",
     "traceback": [
      "\u001b[0;31m---------------------------------------------------------------------------\u001b[0m",
      "\u001b[0;31mNameError\u001b[0m                                 Traceback (most recent call last)",
      "\u001b[1;32m/Users/sawsane/Desktop/Projet-Compression-IN202/projet.ipynb Cellule 19\u001b[0m in \u001b[0;36m<cell line: 2>\u001b[0;34m()\u001b[0m\n\u001b[1;32m      <a href='vscode-notebook-cell:/Users/sawsane/Desktop/Projet-Compression-IN202/projet.ipynb#X24sZmlsZQ%3D%3D?line=0'>1</a>\u001b[0m \u001b[39m#test queestion 1\u001b[39;00m\n\u001b[0;32m----> <a href='vscode-notebook-cell:/Users/sawsane/Desktop/Projet-Compression-IN202/projet.ipynb#X24sZmlsZQ%3D%3D?line=1'>2</a>\u001b[0m test \u001b[39m=\u001b[39m load(\u001b[39m\"\u001b[39m\u001b[39mtest.png\u001b[39m\u001b[39m\"\u001b[39m)\n\u001b[1;32m      <a href='vscode-notebook-cell:/Users/sawsane/Desktop/Projet-Compression-IN202/projet.ipynb#X24sZmlsZQ%3D%3D?line=2'>3</a>\u001b[0m test3\u001b[39m=\u001b[39mRGB2(YCbCr(test))\n\u001b[1;32m      <a href='vscode-notebook-cell:/Users/sawsane/Desktop/Projet-Compression-IN202/projet.ipynb#X24sZmlsZQ%3D%3D?line=3'>4</a>\u001b[0m Image\u001b[39m.\u001b[39mfromarray(test3,\u001b[39m'\u001b[39m\u001b[39mRGB\u001b[39m\u001b[39m'\u001b[39m)\u001b[39m.\u001b[39mshow()\n",
      "\u001b[0;31mNameError\u001b[0m: name 'load' is not defined"
     ]
    }
   ],
   "source": [
    "#test queestion 1\n",
    "test = load(\"test.png\")\n",
    "test3=RGB2(YCbCr(test))\n",
    "Image.fromarray(test3,'RGB').show()\n",
    "\n",
    "psnr(test,test3)\n",
    "\n",
    "#test question 2\n",
    "test2 = RGB2(Y(test), Cb(test),Cr(test))\n",
    "Image.fromarray(test,'RGB2').show\n",
    "psnr(test,test2)"
   ]
  }
 ],
 "metadata": {
  "kernelspec": {
   "display_name": "Python 3",
   "language": "python",
   "name": "python3"
  },
  "language_info": {
   "codemirror_mode": {
    "name": "ipython",
    "version": 3
   },
   "file_extension": ".py",
   "mimetype": "text/x-python",
   "name": "python",
   "nbconvert_exporter": "python",
   "pygments_lexer": "ipython3",
   "version": "3.10.4"
  },
  "orig_nbformat": 4,
  "vscode": {
   "interpreter": {
    "hash": "e5f921d2cbc40cc05b5a24db6ba0e6b62c33b50cc3ec097b0c624e897b5a9797"
   }
  }
 },
 "nbformat": 4,
 "nbformat_minor": 2
}
